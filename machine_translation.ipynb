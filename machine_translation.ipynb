{
 "cells": [
  {
   "cell_type": "markdown",
   "metadata": {
    "collapsed": true
   },
   "source": [
    "# Artificial Intelligence Nanodegree\n",
    "## Machine Translation Project\n",
    "In this notebook, sections that end with **'(IMPLEMENTATION)'** in the header indicate that the following blocks of code will require additional functionality which you must provide. Please be sure to read the instructions carefully!\n",
    "\n",
    "## Introduction\n",
    "In this notebook, you will build a deep neural network that functions as part of an end-to-end machine translation pipeline. Your completed pipeline will accept English text as input and return the French translation.\n",
    "\n",
    "- **Preprocess** - You'll convert text to sequence of integers.\n",
    "- **Models** Create models which accepts a sequence of integers as input and returns a probability distribution over possible translations. After learning about the basic types of neural networks that are often used for machine translation, you will engage in your own investigations, to design your own model!\n",
    "- **Prediction** Run the model on English text."
   ]
  },
  {
   "cell_type": "code",
   "execution_count": null,
   "metadata": {},
   "outputs": [],
   "source": [
    "%load_ext autoreload\n",
    "%aimport helper, tests\n",
    "%autoreload 1"
   ]
  },
  {
   "cell_type": "code",
   "execution_count": 1,
   "metadata": {},
   "outputs": [
    {
     "name": "stderr",
     "output_type": "stream",
     "text": [
      "Using TensorFlow backend.\n"
     ]
    }
   ],
   "source": [
    "import collections\n",
    "\n",
    "import helper\n",
    "import numpy as np\n",
    "import project_tests as tests\n",
    "\n",
    "from keras.preprocessing.text import Tokenizer\n",
    "from keras.preprocessing.sequence import pad_sequences\n",
    "from keras.models import Model\n",
    "from keras.layers import GRU, Input, Dense, TimeDistributed, Activation, RepeatVector, Bidirectional\n",
    "from keras.layers.embeddings import Embedding\n",
    "from keras.optimizers import Adam\n",
    "from keras.losses import sparse_categorical_crossentropy"
   ]
  },
  {
   "cell_type": "markdown",
   "metadata": {},
   "source": [
    "### Verify access to the GPU\n",
    "The following test applies only if you expect to be using a GPU, e.g., while running in a Udacity Workspace or using an AWS instance with GPU support. Run the next cell, and verify that the device_type is \"GPU\".\n",
    "- If the device is not GPU & you are running from a Udacity Workspace, then save your workspace with the icon at the top, then click \"enable\" at the bottom of the workspace.\n",
    "- If the device is not GPU & you are running from an AWS instance, then refer to the cloud computing instructions in the classroom to verify your setup steps."
   ]
  },
  {
   "cell_type": "code",
   "execution_count": 2,
   "metadata": {},
   "outputs": [
    {
     "name": "stdout",
     "output_type": "stream",
     "text": [
      "[name: \"/cpu:0\"\n",
      "device_type: \"CPU\"\n",
      "memory_limit: 268435456\n",
      "locality {\n",
      "}\n",
      "incarnation: 7498745387979155846\n",
      ", name: \"/gpu:0\"\n",
      "device_type: \"GPU\"\n",
      "memory_limit: 11332668621\n",
      "locality {\n",
      "  bus_id: 1\n",
      "}\n",
      "incarnation: 6881067051412475159\n",
      "physical_device_desc: \"device: 0, name: Tesla K80, pci bus id: 0000:00:1e.0\"\n",
      "]\n"
     ]
    }
   ],
   "source": [
    "from tensorflow.python.client import device_lib\n",
    "print(device_lib.list_local_devices())"
   ]
  },
  {
   "cell_type": "markdown",
   "metadata": {},
   "source": [
    "## Dataset\n",
    "We begin by investigating the dataset that will be used to train and evaluate your pipeline.  The most common datasets used for machine translation are from [WMT](http://www.statmt.org/).  However, that will take a long time to train a neural network on.  We'll be using a dataset we created for this project that contains a small vocabulary.  You'll be able to train your model in a reasonable time with this dataset.\n",
    "### Load Data\n",
    "The data is located in `data/small_vocab_en` and `data/small_vocab_fr`. The `small_vocab_en` file contains English sentences with their French translations in the `small_vocab_fr` file. Load the English and French data from these files from running the cell below."
   ]
  },
  {
   "cell_type": "code",
   "execution_count": 3,
   "metadata": {},
   "outputs": [
    {
     "name": "stdout",
     "output_type": "stream",
     "text": [
      "Dataset Loaded\n"
     ]
    }
   ],
   "source": [
    "# Load English data\n",
    "english_sentences = helper.load_data('data/small_vocab_en')\n",
    "# Load French data\n",
    "french_sentences = helper.load_data('data/small_vocab_fr')\n",
    "\n",
    "\n",
    "print('Dataset Loaded')"
   ]
  },
  {
   "cell_type": "markdown",
   "metadata": {},
   "source": [
    "### Files\n",
    "Each line in `small_vocab_en` contains an English sentence with the respective translation in each line of `small_vocab_fr`.  View the first two lines from each file."
   ]
  },
  {
   "cell_type": "code",
   "execution_count": 4,
   "metadata": {},
   "outputs": [
    {
     "name": "stdout",
     "output_type": "stream",
     "text": [
      "small_vocab_en Line 1:  new jersey is sometimes quiet during autumn , and it is snowy in april .\n",
      "small_vocab_fr Line 1:  new jersey est parfois calme pendant l' automne , et il est neigeux en avril .\n",
      "small_vocab_en Line 2:  the united states is usually chilly during july , and it is usually freezing in november .\n",
      "small_vocab_fr Line 2:  les états-unis est généralement froid en juillet , et il gèle habituellement en novembre .\n"
     ]
    }
   ],
   "source": [
    "for sample_i in range(2):\n",
    "    print('small_vocab_en Line {}:  {}'.format(sample_i + 1, english_sentences[sample_i]))\n",
    "    print('small_vocab_fr Line {}:  {}'.format(sample_i + 1, french_sentences[sample_i]))"
   ]
  },
  {
   "cell_type": "markdown",
   "metadata": {},
   "source": [
    "From looking at the sentences, you can see they have been preprocessed already.  The puncuations have been delimited using spaces. All the text have been converted to lowercase.  This should save you some time, but the text requires more preprocessing.\n",
    "### Vocabulary\n",
    "The complexity of the problem is determined by the complexity of the vocabulary.  A more complex vocabulary is a more complex problem.  Let's look at the complexity of the dataset we'll be working with."
   ]
  },
  {
   "cell_type": "code",
   "execution_count": 5,
   "metadata": {},
   "outputs": [
    {
     "name": "stdout",
     "output_type": "stream",
     "text": [
      "1823250 English words.\n",
      "227 unique English words.\n",
      "10 Most common words in the English dataset:\n",
      "\"is\" \",\" \".\" \"in\" \"it\" \"during\" \"the\" \"but\" \"and\" \"sometimes\"\n",
      "\n",
      "1961295 French words.\n",
      "355 unique French words.\n",
      "10 Most common words in the French dataset:\n",
      "\"est\" \".\" \",\" \"en\" \"il\" \"les\" \"mais\" \"et\" \"la\" \"parfois\"\n"
     ]
    }
   ],
   "source": [
    "english_words_counter = collections.Counter([word for sentence in english_sentences for word in sentence.split()])\n",
    "french_words_counter = collections.Counter([word for sentence in french_sentences for word in sentence.split()])\n",
    "\n",
    "print('{} English words.'.format(len([word for sentence in english_sentences for word in sentence.split()])))\n",
    "print('{} unique English words.'.format(len(english_words_counter)))\n",
    "print('10 Most common words in the English dataset:')\n",
    "print('\"' + '\" \"'.join(list(zip(*english_words_counter.most_common(10)))[0]) + '\"')\n",
    "print()\n",
    "print('{} French words.'.format(len([word for sentence in french_sentences for word in sentence.split()])))\n",
    "print('{} unique French words.'.format(len(french_words_counter)))\n",
    "print('10 Most common words in the French dataset:')\n",
    "print('\"' + '\" \"'.join(list(zip(*french_words_counter.most_common(10)))[0]) + '\"')"
   ]
  },
  {
   "cell_type": "markdown",
   "metadata": {},
   "source": [
    "For comparison, _Alice's Adventures in Wonderland_ contains 2,766 unique words of a total of 15,500 words.\n",
    "## Preprocess\n",
    "For this project, you won't use text data as input to your model. Instead, you'll convert the text into sequences of integers using the following preprocess methods:\n",
    "1. Tokenize the words into ids\n",
    "2. Add padding to make all the sequences the same length.\n",
    "\n",
    "Time to start preprocessing the data...\n",
    "### Tokenize (IMPLEMENTATION)\n",
    "For a neural network to predict on text data, it first has to be turned into data it can understand. Text data like \"dog\" is a sequence of ASCII character encodings.  Since a neural network is a series of multiplication and addition operations, the input data needs to be number(s).\n",
    "\n",
    "We can turn each character into a number or each word into a number.  These are called character and word ids, respectively.  Character ids are used for character level models that generate text predictions for each character.  A word level model uses word ids that generate text predictions for each word.  Word level models tend to learn better, since they are lower in complexity, so we'll use those.\n",
    "\n",
    "Turn each sentence into a sequence of words ids using Keras's [`Tokenizer`](https://keras.io/preprocessing/text/#tokenizer) function. Use this function to tokenize `english_sentences` and `french_sentences` in the cell below.\n",
    "\n",
    "Running the cell will run `tokenize` on sample data and show output for debugging."
   ]
  },
  {
   "cell_type": "code",
   "execution_count": 6,
   "metadata": {},
   "outputs": [
    {
     "name": "stdout",
     "output_type": "stream",
     "text": [
      "{'dog': 9, 'by': 10, 'the': 1, 'fox': 5, 'this': 18, 'sentence': 21, 'brown': 4, 'over': 7, 'my': 12, 'prize': 17, 'of': 14, 'lexicography': 15, 'lazy': 8, 'a': 3, 'study': 13, 'short': 20, 'jumps': 6, 'quick': 2, 'won': 16, 'jove': 11, 'is': 19}\n",
      "\n",
      "Sequence 1 in x\n",
      "  Input:  The quick brown fox jumps over the lazy dog .\n",
      "  Output: [1, 2, 4, 5, 6, 7, 1, 8, 9]\n",
      "Sequence 2 in x\n",
      "  Input:  By Jove , my quick study of lexicography won a prize .\n",
      "  Output: [10, 11, 12, 2, 13, 14, 15, 16, 3, 17]\n",
      "Sequence 3 in x\n",
      "  Input:  This is a short sentence .\n",
      "  Output: [18, 19, 3, 20, 21]\n"
     ]
    }
   ],
   "source": [
    "from keras.preprocessing.text import Tokenizer\n",
    "\n",
    "def tokenize(x):\n",
    "    \"\"\"\n",
    "    Tokenize x\n",
    "    :param x: List of sentences/strings to be tokenized\n",
    "    :return: Tuple of (tokenized x data, tokenizer used to tokenize x)\n",
    "    \"\"\"\n",
    "    # TODO: Implement\n",
    "    tokenizer = Tokenizer()\n",
    "    tokenizer.fit_on_texts(x)\n",
    "    return (tokenizer.texts_to_sequences(x), tokenizer)\n",
    "tests.test_tokenize(tokenize)\n",
    "\n",
    "# Tokenize Example output\n",
    "text_sentences = [\n",
    "    'The quick brown fox jumps over the lazy dog .',\n",
    "    'By Jove , my quick study of lexicography won a prize .',\n",
    "    'This is a short sentence .']\n",
    "text_tokenized, text_tokenizer = tokenize(text_sentences)\n",
    "print(text_tokenizer.word_index)\n",
    "print()\n",
    "for sample_i, (sent, token_sent) in enumerate(zip(text_sentences, text_tokenized)):\n",
    "    print('Sequence {} in x'.format(sample_i + 1))\n",
    "    print('  Input:  {}'.format(sent))\n",
    "    print('  Output: {}'.format(token_sent))"
   ]
  },
  {
   "cell_type": "markdown",
   "metadata": {},
   "source": [
    "### Padding (IMPLEMENTATION)\n",
    "When batching the sequence of word ids together, each sequence needs to be the same length.  Since sentences are dynamic in length, we can add padding to the end of the sequences to make them the same length.\n",
    "\n",
    "Make sure all the English sequences have the same length and all the French sequences have the same length by adding padding to the **end** of each sequence using Keras's [`pad_sequences`](https://keras.io/preprocessing/sequence/#pad_sequences) function."
   ]
  },
  {
   "cell_type": "code",
   "execution_count": 7,
   "metadata": {},
   "outputs": [
    {
     "name": "stdout",
     "output_type": "stream",
     "text": [
      "Sequence 1 in x\n",
      "  Input:  [1 2 4 5 6 7 1 8 9]\n",
      "  Output: [1 2 4 5 6 7 1 8 9 0]\n",
      "Sequence 2 in x\n",
      "  Input:  [10 11 12  2 13 14 15 16  3 17]\n",
      "  Output: [10 11 12  2 13 14 15 16  3 17]\n",
      "Sequence 3 in x\n",
      "  Input:  [18 19  3 20 21]\n",
      "  Output: [18 19  3 20 21  0  0  0  0  0]\n"
     ]
    }
   ],
   "source": [
    "from keras.preprocessing.sequence import pad_sequences\n",
    "\n",
    "def pad(x, length=None):\n",
    "    \"\"\"\n",
    "    Pad x\n",
    "    :param x: List of sequences.\n",
    "    :param length: Length to pad the sequence to.  If None, use length of longest sequence in x.\n",
    "    :return: Padded numpy array of sequences\n",
    "    \"\"\"\n",
    "    # TODO: Implement\n",
    "    return pad_sequences(x, maxlen=length, padding='post')\n",
    "tests.test_pad(pad)\n",
    "\n",
    "# Pad Tokenized output\n",
    "test_pad = pad(text_tokenized)\n",
    "for sample_i, (token_sent, pad_sent) in enumerate(zip(text_tokenized, test_pad)):\n",
    "    print('Sequence {} in x'.format(sample_i + 1))\n",
    "    print('  Input:  {}'.format(np.array(token_sent)))\n",
    "    print('  Output: {}'.format(pad_sent))"
   ]
  },
  {
   "cell_type": "markdown",
   "metadata": {},
   "source": [
    "### Preprocess Pipeline\n",
    "Your focus for this project is to build neural network architecture, so we won't ask you to create a preprocess pipeline.  Instead, we've provided you with the implementation of the `preprocess` function."
   ]
  },
  {
   "cell_type": "code",
   "execution_count": 8,
   "metadata": {},
   "outputs": [
    {
     "name": "stdout",
     "output_type": "stream",
     "text": [
      "Data Preprocessed\n",
      "Max English sentence length: 15\n",
      "Max French sentence length: 21\n",
      "English vocabulary size: 199\n",
      "French vocabulary size: 344\n"
     ]
    }
   ],
   "source": [
    "def preprocess(x, y):\n",
    "    \"\"\"\n",
    "    Preprocess x and y\n",
    "    :param x: Feature List of sentences\n",
    "    :param y: Label List of sentences\n",
    "    :return: Tuple of (Preprocessed x, Preprocessed y, x tokenizer, y tokenizer)\n",
    "    \"\"\"\n",
    "    preprocess_x, x_tk = tokenize(x)\n",
    "    preprocess_y, y_tk = tokenize(y)\n",
    "\n",
    "    preprocess_x = pad(preprocess_x)\n",
    "    preprocess_y = pad(preprocess_y)\n",
    "\n",
    "    # Keras's sparse_categorical_crossentropy function requires the labels to be in 3 dimensions\n",
    "    preprocess_y = preprocess_y.reshape(*preprocess_y.shape, 1)\n",
    "\n",
    "    return preprocess_x, preprocess_y, x_tk, y_tk\n",
    "\n",
    "preproc_english_sentences, preproc_french_sentences, english_tokenizer, french_tokenizer =\\\n",
    "    preprocess(english_sentences, french_sentences)\n",
    "    \n",
    "max_english_sequence_length = preproc_english_sentences.shape[1]\n",
    "max_french_sequence_length = preproc_french_sentences.shape[1]\n",
    "english_vocab_size = len(english_tokenizer.word_index)\n",
    "french_vocab_size = len(french_tokenizer.word_index)\n",
    "\n",
    "print('Data Preprocessed')\n",
    "print(\"Max English sentence length:\", max_english_sequence_length)\n",
    "print(\"Max French sentence length:\", max_french_sequence_length)\n",
    "print(\"English vocabulary size:\", english_vocab_size)\n",
    "print(\"French vocabulary size:\", french_vocab_size)"
   ]
  },
  {
   "cell_type": "markdown",
   "metadata": {},
   "source": [
    "## Models\n",
    "In this section, you will experiment with various neural network architectures.\n",
    "You will begin by training four relatively simple architectures.\n",
    "- Model 1 is a simple RNN\n",
    "- Model 2 is a RNN with Embedding\n",
    "- Model 3 is a Bidirectional RNN\n",
    "- Model 4 is an optional Encoder-Decoder RNN\n",
    "\n",
    "After experimenting with the four simple architectures, you will construct a deeper architecture that is designed to outperform all four models.\n",
    "### Ids Back to Text\n",
    "The neural network will be translating the input to words ids, which isn't the final form we want.  We want the French translation.  The function `logits_to_text` will bridge the gab between the logits from the neural network to the French translation.  You'll be using this function to better understand the output of the neural network."
   ]
  },
  {
   "cell_type": "code",
   "execution_count": 9,
   "metadata": {},
   "outputs": [
    {
     "name": "stdout",
     "output_type": "stream",
     "text": [
      "`logits_to_text` function loaded.\n"
     ]
    }
   ],
   "source": [
    "def logits_to_text(logits, tokenizer):\n",
    "    \"\"\"\n",
    "    Turn logits from a neural network into text using the tokenizer\n",
    "    :param logits: Logits from a neural network\n",
    "    :param tokenizer: Keras Tokenizer fit on the labels\n",
    "    :return: String that represents the text of the logits\n",
    "    \"\"\"\n",
    "    index_to_words = {id: word for word, id in tokenizer.word_index.items()}\n",
    "    index_to_words[0] = '<PAD>'\n",
    "\n",
    "    return ' '.join([index_to_words[prediction] for prediction in np.argmax(logits, 1)])\n",
    "\n",
    "print('`logits_to_text` function loaded.')"
   ]
  },
  {
   "cell_type": "markdown",
   "metadata": {},
   "source": [
    "### Model 1: RNN (IMPLEMENTATION)\n",
    "![RNN](images/rnn.png)\n",
    "A basic RNN model is a good baseline for sequence data.  In this model, you'll build a RNN that translates English to French."
   ]
  },
  {
   "cell_type": "code",
   "execution_count": 10,
   "metadata": {},
   "outputs": [
    {
     "name": "stdout",
     "output_type": "stream",
     "text": [
      "Train on 110288 samples, validate on 27573 samples\n",
      "Epoch 1/10\n",
      "110288/110288 [==============================] - 17s 156us/step - loss: 4.7497 - acc: 0.4032 - val_loss: 3.7799 - val_acc: 0.4353\n",
      "Epoch 2/10\n",
      "110288/110288 [==============================] - 8s 68us/step - loss: 3.2289 - acc: 0.4326 - val_loss: 2.9487 - val_acc: 0.4472\n",
      "Epoch 3/10\n",
      "110288/110288 [==============================] - 8s 68us/step - loss: 2.9214 - acc: 0.4558 - val_loss: 2.7201 - val_acc: 0.4784\n",
      "Epoch 4/10\n",
      "110288/110288 [==============================] - 8s 68us/step - loss: 2.7223 - acc: 0.4872 - val_loss: 2.4691 - val_acc: 0.5142\n",
      "Epoch 5/10\n",
      "110288/110288 [==============================] - 8s 68us/step - loss: 2.5647 - acc: 0.5014 - val_loss: 2.2941 - val_acc: 0.5313\n",
      "Epoch 6/10\n",
      "110288/110288 [==============================] - 8s 68us/step - loss: 2.4306 - acc: 0.5098 - val_loss: 2.1453 - val_acc: 0.5414\n",
      "Epoch 7/10\n",
      "110288/110288 [==============================] - 8s 68us/step - loss: 2.3464 - acc: 0.5160 - val_loss: 2.0735 - val_acc: 0.5428\n",
      "Epoch 8/10\n",
      "110288/110288 [==============================] - 8s 68us/step - loss: 2.2936 - acc: 0.5185 - val_loss: 2.0159 - val_acc: 0.5495\n",
      "Epoch 9/10\n",
      "110288/110288 [==============================] - 8s 68us/step - loss: 2.2484 - acc: 0.5216 - val_loss: 1.9874 - val_acc: 0.5612\n",
      "Epoch 10/10\n",
      "110288/110288 [==============================] - 8s 68us/step - loss: 2.2084 - acc: 0.5238 - val_loss: 1.9514 - val_acc: 0.5518\n",
      "la est est généralement chaud en l' et il il il en en <PAD> <PAD> <PAD> <PAD> <PAD> <PAD> <PAD> <PAD>\n"
     ]
    }
   ],
   "source": [
    "from keras.models import Sequential\n",
    "from keras.layers import SimpleRNN\n",
    "\n",
    "simple_learning_rate = 0.01\n",
    "simple_dropout       = 0.2\n",
    "simple_activation    = 'softmax'\n",
    "\n",
    "\n",
    "def simple_model(input_shape, output_sequence_length, english_vocab_size, french_vocab_size):\n",
    "    \"\"\"\n",
    "    Build and train a basic RNN on x and y\n",
    "    :param input_shape: Tuple of input shape\n",
    "    :param output_sequence_length: Length of output sequence\n",
    "    :param english_vocab_size: Number of unique English words in the dataset\n",
    "    :param french_vocab_size: Number of unique French words in the dataset\n",
    "    :return: Keras model built, but not trained\n",
    "    \"\"\"\n",
    "    # TODO: Build the layers\n",
    "    # https://keras.io/layers/recurrent/#simplernn\n",
    "    assert output_sequence_length == input_shape[1]\n",
    "    model = Sequential()\n",
    "    model.add(\n",
    "        SimpleRNN(\n",
    "            input_shape=(input_shape[1], input_shape[2]),\n",
    "            units=french_vocab_size,\n",
    "            activation=simple_activation,\n",
    "            dropout=simple_dropout,\n",
    "            recurrent_dropout=simple_dropout,\n",
    "            return_sequences=True\n",
    "        )\n",
    "    )\n",
    "    model.compile(loss=sparse_categorical_crossentropy,\n",
    "                  optimizer=Adam(simple_learning_rate),\n",
    "                  metrics=['accuracy'])\n",
    "    return model\n",
    "tests.test_simple_model(simple_model)\n",
    "\n",
    "# Reshaping the input to work with a basic RNN\n",
    "tmp_x = pad(preproc_english_sentences, max_french_sequence_length)\n",
    "tmp_x = tmp_x.reshape((-1, preproc_french_sentences.shape[-2], 1))\n",
    "\n",
    "# Train the neural network\n",
    "simple_rnn_model = simple_model(\n",
    "    tmp_x.shape,\n",
    "    max_french_sequence_length,\n",
    "    english_vocab_size + 1,\n",
    "    french_vocab_size + 1) # NOTE: Still a bug?\n",
    "                           # https://discussions.udacity.com/t/capstone-project-model-1-rnn-\n",
    "                           # implementation-invalidargumenterror-received-label-value-344-\n",
    "                           # outside-valid-range-0-344/296300/17\n",
    "simple_rnn_model.fit(tmp_x, preproc_french_sentences, batch_size=1024, epochs=10, validation_split=0.2)\n",
    "\n",
    "# Print prediction(s)\n",
    "print(logits_to_text(simple_rnn_model.predict(tmp_x[:1])[0], french_tokenizer))"
   ]
  },
  {
   "cell_type": "markdown",
   "metadata": {},
   "source": [
    "### Model 2: Embedding (IMPLEMENTATION)\n",
    "![RNN](images/embedding.png)\n",
    "You've turned the words into ids, but there's a better representation of a word.  This is called word embeddings.  An embedding is a vector representation of the word that is close to similar words in n-dimensional space, where the n represents the size of the embedding vectors.\n",
    "\n",
    "In this model, you'll create a RNN model using embedding."
   ]
  },
  {
   "cell_type": "code",
   "execution_count": 11,
   "metadata": {},
   "outputs": [
    {
     "name": "stdout",
     "output_type": "stream",
     "text": [
      "Train on 110288 samples, validate on 27573 samples\n",
      "Epoch 1/10\n",
      "110288/110288 [==============================] - 10s 94us/step - loss: 1.6528 - acc: 0.6650 - val_loss: 1.1940 - val_acc: 0.6862\n",
      "Epoch 2/10\n",
      "110288/110288 [==============================] - 10s 91us/step - loss: 1.1311 - acc: 0.6927 - val_loss: 1.0117 - val_acc: 0.7067\n",
      "Epoch 3/10\n",
      "110288/110288 [==============================] - 10s 91us/step - loss: 1.0130 - acc: 0.7032 - val_loss: 0.9193 - val_acc: 0.7164\n",
      "Epoch 4/10\n",
      "110288/110288 [==============================] - 10s 91us/step - loss: 0.9567 - acc: 0.7065 - val_loss: 0.8743 - val_acc: 0.7237\n",
      "Epoch 5/10\n",
      "110288/110288 [==============================] - 10s 91us/step - loss: 0.9274 - acc: 0.7091 - val_loss: 0.8459 - val_acc: 0.7261\n",
      "Epoch 6/10\n",
      "110288/110288 [==============================] - 10s 91us/step - loss: 0.9071 - acc: 0.7121 - val_loss: 0.8308 - val_acc: 0.7308\n",
      "Epoch 7/10\n",
      "110288/110288 [==============================] - 10s 91us/step - loss: 0.8937 - acc: 0.7149 - val_loss: 0.8163 - val_acc: 0.7334\n",
      "Epoch 8/10\n",
      "110288/110288 [==============================] - 10s 91us/step - loss: 0.8793 - acc: 0.7189 - val_loss: 0.7996 - val_acc: 0.7351\n",
      "Epoch 9/10\n",
      "110288/110288 [==============================] - 10s 91us/step - loss: 0.8719 - acc: 0.7219 - val_loss: 0.7901 - val_acc: 0.7424\n",
      "Epoch 10/10\n",
      "110288/110288 [==============================] - 10s 91us/step - loss: 0.8700 - acc: 0.7231 - val_loss: 0.7756 - val_acc: 0.7432\n",
      "new jersey est parfois calme en cours et et est neigeux neigeux avril <PAD> <PAD> <PAD> <PAD> <PAD> <PAD> <PAD> <PAD>\n"
     ]
    }
   ],
   "source": [
    "from keras.models import Sequential\n",
    "from keras.layers import SimpleRNN, Embedding\n",
    "\n",
    "embed_learning_rate    = 0.01\n",
    "embed_dropout          = 0.2\n",
    "embed_embedding_output = 512\n",
    "embed_activation       = 'softmax'\n",
    "\n",
    "def embed_model(input_shape, output_sequence_length, english_vocab_size, french_vocab_size):\n",
    "    \"\"\"\n",
    "    Build and train a RNN model using word embedding on x and y\n",
    "    :param input_shape: Tuple of input shape\n",
    "    :param output_sequence_length: Length of output sequence\n",
    "    :param english_vocab_size: Number of unique English words in the dataset\n",
    "    :param french_vocab_size: Number of unique French words in the dataset\n",
    "    :return: Keras model built, but not trained\n",
    "    \"\"\"\n",
    "    # TODO: Implement\n",
    "    # https://keras.io/layers/embeddings/#embedding\n",
    "    assert output_sequence_length == input_shape[1]\n",
    "    model = Sequential()\n",
    "    model.add(\n",
    "        Embedding(\n",
    "            input_shape=(input_shape[1],),\n",
    "            input_dim=english_vocab_size,\n",
    "            output_dim=embed_embedding_output\n",
    "        )\n",
    "    )\n",
    "    model.add(\n",
    "        SimpleRNN(\n",
    "            units=french_vocab_size,\n",
    "            activation=embed_activation,\n",
    "            dropout=embed_dropout,\n",
    "            recurrent_dropout=embed_dropout,\n",
    "            return_sequences=True\n",
    "        )\n",
    "    )\n",
    "    model.compile(loss=sparse_categorical_crossentropy,\n",
    "                  optimizer=Adam(embed_learning_rate),\n",
    "                  metrics=['accuracy'])\n",
    "    return model\n",
    "tests.test_embed_model(embed_model)\n",
    "\n",
    "# TODO: Reshape the input\n",
    "tmp_x = pad(preproc_english_sentences, max_french_sequence_length)\n",
    "tmp_x = tmp_x.reshape((-1, preproc_french_sentences.shape[-2]))\n",
    "\n",
    "# TODO: Train the neural network\n",
    "embed_rnn_model = embed_model(\n",
    "    tmp_x.shape,\n",
    "    max_french_sequence_length,\n",
    "    english_vocab_size + 1,\n",
    "    french_vocab_size + 1)\n",
    "\n",
    "embed_rnn_model.fit(tmp_x, preproc_french_sentences, batch_size=1024, epochs=10, validation_split=0.2)\n",
    "\n",
    "# TODO: Print prediction(s)\n",
    "print(logits_to_text(embed_rnn_model.predict(tmp_x[:1])[0], french_tokenizer))"
   ]
  },
  {
   "cell_type": "markdown",
   "metadata": {},
   "source": [
    "### Model 3: Bidirectional RNNs (IMPLEMENTATION)\n",
    "![RNN](images/bidirectional.png)\n",
    "One restriction of a RNN is that it can't see the future input, only the past.  This is where bidirectional recurrent neural networks come in.  They are able to see the future data."
   ]
  },
  {
   "cell_type": "code",
   "execution_count": 12,
   "metadata": {},
   "outputs": [
    {
     "name": "stdout",
     "output_type": "stream",
     "text": [
      "Train on 110288 samples, validate on 27573 samples\n",
      "Epoch 1/10\n",
      "110288/110288 [==============================] - 10s 87us/step - loss: 2.3399 - acc: 0.5444 - val_loss: 1.5077 - val_acc: 0.6237\n",
      "Epoch 2/10\n",
      "110288/110288 [==============================] - 9s 83us/step - loss: 1.5766 - acc: 0.6027 - val_loss: 1.3528 - val_acc: 0.6437\n",
      "Epoch 3/10\n",
      "110288/110288 [==============================] - 9s 83us/step - loss: 1.4627 - acc: 0.6157 - val_loss: 1.2976 - val_acc: 0.6508\n",
      "Epoch 4/10\n",
      "110288/110288 [==============================] - 9s 83us/step - loss: 1.4107 - acc: 0.6231 - val_loss: 1.2522 - val_acc: 0.6507\n",
      "Epoch 5/10\n",
      "110288/110288 [==============================] - 9s 84us/step - loss: 1.3723 - acc: 0.6284 - val_loss: 1.2474 - val_acc: 0.6546\n",
      "Epoch 6/10\n",
      "110288/110288 [==============================] - 9s 83us/step - loss: 1.3459 - acc: 0.6326 - val_loss: 1.2823 - val_acc: 0.6398\n",
      "Epoch 7/10\n",
      "110288/110288 [==============================] - 9s 84us/step - loss: 1.3265 - acc: 0.6361 - val_loss: 1.2636 - val_acc: 0.6381\n",
      "Epoch 8/10\n",
      "110288/110288 [==============================] - 9s 83us/step - loss: 1.3061 - acc: 0.6407 - val_loss: 1.3231 - val_acc: 0.6315\n",
      "Epoch 9/10\n",
      "110288/110288 [==============================] - 9s 83us/step - loss: 1.2937 - acc: 0.6439 - val_loss: 1.3685 - val_acc: 0.6209\n",
      "Epoch 10/10\n",
      "110288/110288 [==============================] - 9s 83us/step - loss: 1.2805 - acc: 0.6460 - val_loss: 1.3836 - val_acc: 0.6229\n",
      "new jersey est parfois chaud au printemps mais il est agréable en en <PAD> <PAD> <PAD> <PAD> <PAD> <PAD> <PAD> <PAD>\n"
     ]
    }
   ],
   "source": [
    "from keras.models import Sequential\n",
    "from keras.layers import SimpleRNN, Bidirectional\n",
    "\n",
    "bd_learning_rate    = 0.01\n",
    "bd_dropout          = 0.2\n",
    "bd_rnn_size         = 256\n",
    "bd_rnn_activation   = 'relu'\n",
    "bd_dense_activation = 'softmax'\n",
    "\n",
    "def bd_model(input_shape, output_sequence_length, english_vocab_size, french_vocab_size):\n",
    "    \"\"\"\n",
    "    Build and train a bidirectional RNN model on x and y\n",
    "    :param input_shape: Tuple of input shape\n",
    "    :param output_sequence_length: Length of output sequence\n",
    "    :param english_vocab_size: Number of unique English words in the dataset\n",
    "    :param french_vocab_size: Number of unique French words in the dataset\n",
    "    :return: Keras model built, but not trained\n",
    "    \"\"\"\n",
    "    # TODO: Implement\n",
    "    # https://keras.io/layers/wrappers/#bidirectional\n",
    "    assert output_sequence_length == input_shape[1]\n",
    "    model = Sequential()\n",
    "    model.add(\n",
    "        Bidirectional(\n",
    "            input_shape=(input_shape[1], input_shape[2]),\n",
    "            layer=SimpleRNN(\n",
    "                units=bd_rnn_size,\n",
    "                activation=bd_rnn_activation,\n",
    "                dropout=bd_dropout,\n",
    "                recurrent_dropout=bd_dropout,\n",
    "                return_sequences=True\n",
    "            )\n",
    "        )\n",
    "    )\n",
    "    model.add(\n",
    "        Dense(units=french_vocab_size, activation=bd_dense_activation)\n",
    "    )\n",
    "    model.compile(loss=sparse_categorical_crossentropy,\n",
    "                  optimizer=Adam(bd_learning_rate),\n",
    "                  metrics=['accuracy'])\n",
    "    return model\n",
    "tests.test_bd_model(bd_model)\n",
    "\n",
    "# TODO: Train and Print prediction(s)\n",
    "tmp_x = pad(preproc_english_sentences, max_french_sequence_length)\n",
    "tmp_x = tmp_x.reshape((-1, preproc_french_sentences.shape[-2], 1))\n",
    "\n",
    "bd_rnn_model = bd_model(\n",
    "    tmp_x.shape,\n",
    "    max_french_sequence_length,\n",
    "    english_vocab_size + 1,\n",
    "    french_vocab_size + 1)\n",
    "\n",
    "bd_rnn_model.fit(tmp_x, preproc_french_sentences, batch_size=1024, epochs=10, validation_split=0.2)\n",
    "\n",
    "# TODO: Print prediction(s)\n",
    "print(logits_to_text(bd_rnn_model.predict(tmp_x[:1])[0], french_tokenizer))"
   ]
  },
  {
   "cell_type": "markdown",
   "metadata": {},
   "source": [
    "### Model 4: Encoder-Decoder (OPTIONAL)\n",
    "Time to look at encoder-decoder models.  This model is made up of an encoder and decoder. The encoder creates a matrix representation of the sentence.  The decoder takes this matrix as input and predicts the translation as output.\n",
    "\n",
    "Create an encoder-decoder model in the cell below."
   ]
  },
  {
   "cell_type": "code",
   "execution_count": null,
   "metadata": {
    "collapsed": true
   },
   "outputs": [],
   "source": [
    "def encdec_model(input_shape, output_sequence_length, english_vocab_size, french_vocab_size):\n",
    "    \"\"\"\n",
    "    Build and train an encoder-decoder model on x and y\n",
    "    :param input_shape: Tuple of input shape\n",
    "    :param output_sequence_length: Length of output sequence\n",
    "    :param english_vocab_size: Number of unique English words in the dataset\n",
    "    :param french_vocab_size: Number of unique French words in the dataset\n",
    "    :return: Keras model built, but not trained\n",
    "    \"\"\"\n",
    "    # OPTIONAL: Implement\n",
    "    return None\n",
    "tests.test_encdec_model(encdec_model)\n",
    "\n",
    "\n",
    "# OPTIONAL: Train and Print prediction(s)"
   ]
  },
  {
   "cell_type": "markdown",
   "metadata": {},
   "source": [
    "### Model 5: Custom (IMPLEMENTATION)\n",
    "Use everything you learned from the previous models to create a model that incorporates embedding and a bidirectional rnn into one model."
   ]
  },
  {
   "cell_type": "code",
   "execution_count": 18,
   "metadata": {},
   "outputs": [
    {
     "name": "stdout",
     "output_type": "stream",
     "text": [
      "Final Model Loaded\n",
      "Train on 110288 samples, validate on 27573 samples\n",
      "Epoch 1/10\n",
      "110288/110288 [==============================] - 24s 217us/step - loss: 2.7762 - acc: 0.4552 - val_loss: 2.1128 - val_acc: 0.5331\n",
      "Epoch 2/10\n",
      "110288/110288 [==============================] - 22s 197us/step - loss: 1.5854 - acc: 0.5997 - val_loss: 1.2352 - val_acc: 0.6673\n",
      "Epoch 3/10\n",
      "110288/110288 [==============================] - 22s 196us/step - loss: 1.2169 - acc: 0.6667 - val_loss: 1.0484 - val_acc: 0.7009\n",
      "Epoch 4/10\n",
      "110288/110288 [==============================] - 22s 196us/step - loss: 1.0826 - acc: 0.6941 - val_loss: 0.9448 - val_acc: 0.7260\n",
      "Epoch 5/10\n",
      "110288/110288 [==============================] - 22s 196us/step - loss: 0.9981 - acc: 0.7130 - val_loss: 0.8699 - val_acc: 0.7455\n",
      "Epoch 6/10\n",
      "110288/110288 [==============================] - 22s 197us/step - loss: 0.9336 - acc: 0.7282 - val_loss: 0.8138 - val_acc: 0.7585\n",
      "Epoch 7/10\n",
      "110288/110288 [==============================] - 22s 196us/step - loss: 0.8802 - acc: 0.7405 - val_loss: 0.7467 - val_acc: 0.7751\n",
      "Epoch 8/10\n",
      "110288/110288 [==============================] - 22s 197us/step - loss: 0.8280 - acc: 0.7530 - val_loss: 0.7072 - val_acc: 0.7849\n",
      "Epoch 9/10\n",
      "110288/110288 [==============================] - 22s 196us/step - loss: 0.7901 - acc: 0.7614 - val_loss: 0.6670 - val_acc: 0.7953\n",
      "Epoch 10/10\n",
      "110288/110288 [==============================] - 22s 196us/step - loss: 0.7497 - acc: 0.7713 - val_loss: 0.6291 - val_acc: 0.8054\n"
     ]
    },
    {
     "data": {
      "text/plain": [
       "<keras.callbacks.History at 0x7fbc117caa20>"
      ]
     },
     "execution_count": 18,
     "metadata": {},
     "output_type": "execute_result"
    }
   ],
   "source": [
    "from keras.models import Sequential\n",
    "from keras.layers import SimpleRNN, Embedding, Bidirectional\n",
    "\n",
    "final_learning_rate    = 0.0005\n",
    "final_dropout          = 0.2\n",
    "final_embedding_output = 512\n",
    "final_rnn_encoder_size = 256\n",
    "final_rnn_decoder_size = 256\n",
    "final_rnn_activation   = 'relu'\n",
    "final_dense_activation = 'softmax'\n",
    "\n",
    "def model_final(input_shape, output_sequence_length, english_vocab_size, french_vocab_size):\n",
    "    \"\"\"\n",
    "    Build and train a model that incorporates embedding, encoder-decoder, and bidirectional RNN on x and y\n",
    "    :param input_shape: Tuple of input shape\n",
    "    :param output_sequence_length: Length of output sequence\n",
    "    :param english_vocab_size: Number of unique English words in the dataset\n",
    "    :param french_vocab_size: Number of unique French words in the dataset\n",
    "    :return: Keras model built, but not trained\n",
    "    \"\"\"\n",
    "    # TODO: Implement\n",
    "    # https://discussions.udacity.com/t/cant-train-a-final-model-using\n",
    "    # -embedding-and-bidirectional-layer-for-none-15-input/445781/14\n",
    "    # https://github.com/keras-team/keras/issues/562\n",
    "    model = Sequential()\n",
    "    model.add(\n",
    "        Embedding(\n",
    "            input_shape=(input_shape[1],),\n",
    "            input_dim=english_vocab_size,\n",
    "            output_dim=final_embedding_output\n",
    "        )\n",
    "    )\n",
    "    model.add(\n",
    "        Bidirectional(\n",
    "            layer=SimpleRNN(\n",
    "                units=final_rnn_encoder_size,\n",
    "                activation=final_rnn_activation,\n",
    "                dropout=final_dropout,\n",
    "                recurrent_dropout=final_dropout,\n",
    "            )\n",
    "        )\n",
    "    )\n",
    "    model.add(\n",
    "        RepeatVector(n=output_sequence_length)\n",
    "    )\n",
    "    model.add(\n",
    "        Bidirectional(\n",
    "            layer=SimpleRNN(\n",
    "                units=final_rnn_decoder_size,\n",
    "                activation=final_rnn_activation,\n",
    "                dropout=final_dropout,\n",
    "                recurrent_dropout=final_dropout,\n",
    "                return_sequences=True\n",
    "            )\n",
    "        )\n",
    "    )\n",
    "    model.add(\n",
    "        Dense(units=french_vocab_size, activation=final_dense_activation)\n",
    "    )\n",
    "    model.compile(loss=sparse_categorical_crossentropy,\n",
    "                  optimizer=Adam(final_learning_rate),\n",
    "                  metrics=['accuracy'])\n",
    "    return model\n",
    "tests.test_model_final(model_final)\n",
    "\n",
    "\n",
    "print('Final Model Loaded')\n",
    "# TODO: Train the final model\n",
    "\n",
    "tmp_x = pad(preproc_english_sentences, max_french_sequence_length)\n",
    "tmp_x = tmp_x.reshape((-1, preproc_french_sentences.shape[-2]))\n",
    "\n",
    "final_rnn_model = model_final(\n",
    "    tmp_x.shape,\n",
    "    max_french_sequence_length,\n",
    "    english_vocab_size + 1,\n",
    "    french_vocab_size + 1)\n",
    "\n",
    "final_rnn_model.fit(tmp_x, preproc_french_sentences, batch_size=1024, epochs=10, validation_split=0.2)"
   ]
  },
  {
   "cell_type": "markdown",
   "metadata": {},
   "source": [
    "## Prediction (IMPLEMENTATION)"
   ]
  },
  {
   "cell_type": "code",
   "execution_count": 19,
   "metadata": {},
   "outputs": [
    {
     "name": "stdout",
     "output_type": "stream",
     "text": [
      "Train on 110288 samples, validate on 27573 samples\n",
      "Epoch 1/20\n",
      "110288/110288 [==============================] - 22s 200us/step - loss: 2.7324 - acc: 0.4597 - val_loss: 1.9566 - val_acc: 0.5513\n",
      "Epoch 2/20\n",
      "110288/110288 [==============================] - 19s 177us/step - loss: 1.5821 - acc: 0.5994 - val_loss: 1.2708 - val_acc: 0.6584\n",
      "Epoch 3/20\n",
      "110288/110288 [==============================] - 19s 176us/step - loss: 1.2192 - acc: 0.6644 - val_loss: 1.0238 - val_acc: 0.7034\n",
      "Epoch 4/20\n",
      "110288/110288 [==============================] - 19s 176us/step - loss: 1.0425 - acc: 0.7007 - val_loss: 0.8887 - val_acc: 0.7367\n",
      "Epoch 5/20\n",
      "110288/110288 [==============================] - 19s 176us/step - loss: 0.9306 - acc: 0.7262 - val_loss: 0.7880 - val_acc: 0.7628\n",
      "Epoch 6/20\n",
      "110288/110288 [==============================] - 19s 176us/step - loss: 0.8459 - acc: 0.7459 - val_loss: 0.7069 - val_acc: 0.7835\n",
      "Epoch 7/20\n",
      "110288/110288 [==============================] - 19s 176us/step - loss: 0.7800 - acc: 0.7619 - val_loss: 0.6410 - val_acc: 0.8019\n",
      "Epoch 8/20\n",
      "110288/110288 [==============================] - 19s 176us/step - loss: 0.7271 - acc: 0.7746 - val_loss: 0.5943 - val_acc: 0.8137\n",
      "Epoch 9/20\n",
      "110288/110288 [==============================] - 19s 176us/step - loss: 0.6818 - acc: 0.7854 - val_loss: 0.5465 - val_acc: 0.8261\n",
      "Epoch 10/20\n",
      "110288/110288 [==============================] - 19s 176us/step - loss: 0.6436 - acc: 0.7957 - val_loss: 0.5130 - val_acc: 0.8374\n",
      "Epoch 11/20\n",
      "110288/110288 [==============================] - 19s 176us/step - loss: 0.6075 - acc: 0.8057 - val_loss: 0.4692 - val_acc: 0.8523\n",
      "Epoch 12/20\n",
      "110288/110288 [==============================] - 19s 176us/step - loss: 0.5730 - acc: 0.8151 - val_loss: 0.4403 - val_acc: 0.8621\n",
      "Epoch 13/20\n",
      "110288/110288 [==============================] - 19s 176us/step - loss: 0.5431 - acc: 0.8240 - val_loss: 0.4109 - val_acc: 0.8707\n",
      "Epoch 14/20\n",
      "110288/110288 [==============================] - 19s 176us/step - loss: 0.5183 - acc: 0.8314 - val_loss: 0.3874 - val_acc: 0.8795\n",
      "Epoch 15/20\n",
      "110288/110288 [==============================] - 19s 176us/step - loss: 0.4958 - acc: 0.8386 - val_loss: 0.3688 - val_acc: 0.8850\n",
      "Epoch 16/20\n",
      "110288/110288 [==============================] - 19s 176us/step - loss: 0.4755 - acc: 0.8448 - val_loss: 0.3484 - val_acc: 0.8915\n",
      "Epoch 17/20\n",
      "110288/110288 [==============================] - 19s 176us/step - loss: 0.4573 - acc: 0.8508 - val_loss: 0.3351 - val_acc: 0.8967\n",
      "Epoch 18/20\n",
      "110288/110288 [==============================] - 19s 176us/step - loss: 0.4402 - acc: 0.8561 - val_loss: 0.3173 - val_acc: 0.9020\n",
      "Epoch 19/20\n",
      "110288/110288 [==============================] - 19s 176us/step - loss: 0.4273 - acc: 0.8600 - val_loss: 0.3076 - val_acc: 0.9036\n",
      "Epoch 20/20\n",
      "110288/110288 [==============================] - 19s 176us/step - loss: 0.4127 - acc: 0.8648 - val_loss: 0.2966 - val_acc: 0.9085\n",
      "Sample 1:\n",
      "il a vu un vieux camion jaune <PAD> <PAD> <PAD> <PAD> <PAD> <PAD> <PAD> <PAD> <PAD> <PAD> <PAD> <PAD> <PAD> <PAD>\n",
      "Il a vu un vieux camion jaune\n",
      "Sample 2:\n",
      "new jersey est parfois calme à l'automne automne l' il et en avril avril <PAD> <PAD> <PAD> <PAD> <PAD> <PAD> <PAD>\n",
      "new jersey est parfois calme pendant l' automne et il est neigeux en avril <PAD> <PAD> <PAD> <PAD> <PAD> <PAD> <PAD>\n"
     ]
    }
   ],
   "source": [
    "def final_predictions(x, y, x_tk, y_tk):\n",
    "    \"\"\"\n",
    "    Gets predictions using the final model\n",
    "    :param x: Preprocessed English data\n",
    "    :param y: Preprocessed French data\n",
    "    :param x_tk: English tokenizer\n",
    "    :param y_tk: French tokenizer\n",
    "    \"\"\"\n",
    "    # TODO: Train neural network using model_final\n",
    "    x_vocab_size = len(x_tk.word_index)\n",
    "    y_vocab_size = len(y_tk.word_index)\n",
    "    max_y_sequence_length = y.shape[1]\n",
    "    \n",
    "    model = model_final(\n",
    "        x.shape,\n",
    "        max_y_sequence_length,\n",
    "        x_vocab_size + 1,\n",
    "        y_vocab_size + 1\n",
    "    )\n",
    "    model.fit(\n",
    "        x,\n",
    "        y,\n",
    "        batch_size=1024,\n",
    "        epochs=20,\n",
    "        validation_split=0.2\n",
    "    )\n",
    "    \n",
    "    ## DON'T EDIT ANYTHING BELOW THIS LINE\n",
    "    y_id_to_word = {value: key for key, value in y_tk.word_index.items()}\n",
    "    y_id_to_word[0] = '<PAD>'\n",
    "\n",
    "    sentence = 'he saw a old yellow truck'\n",
    "    sentence = [x_tk.word_index[word] for word in sentence.split()]\n",
    "    sentence = pad_sequences([sentence], maxlen=x.shape[-1], padding='post')\n",
    "    sentences = np.array([sentence[0], x[0]])\n",
    "    predictions = model.predict(sentences, len(sentences))\n",
    "\n",
    "    print('Sample 1:')\n",
    "    print(' '.join([y_id_to_word[np.argmax(x)] for x in predictions[0]]))\n",
    "    print('Il a vu un vieux camion jaune')\n",
    "    print('Sample 2:')\n",
    "    print(' '.join([y_id_to_word[np.argmax(x)] for x in predictions[1]]))\n",
    "    print(' '.join([y_id_to_word[np.max(x)] for x in y[0]]))\n",
    "\n",
    "\n",
    "final_predictions(preproc_english_sentences, preproc_french_sentences, english_tokenizer, french_tokenizer)"
   ]
  },
  {
   "cell_type": "markdown",
   "metadata": {},
   "source": [
    "## Submission\n",
    "When you're ready to submit, complete the following steps:\n",
    "1. Review the [rubric](https://review.udacity.com/#!/rubrics/1004/view) to ensure your submission meets all requirements to pass\n",
    "2. Generate an HTML version of this notebook\n",
    "\n",
    "  - Run the next cell to attempt automatic generation (this is the recommended method in Workspaces)\n",
    "  - Navigate to **FILE -> Download as -> HTML (.html)**\n",
    "  - Manually generate a copy using `nbconvert` from your shell terminal\n",
    "```\n",
    "$ pip install nbconvert\n",
    "$ python -m nbconvert machine_translation.ipynb\n",
    "```\n",
    "  \n",
    "3. Submit the project\n",
    "\n",
    "  - If you are in a Workspace, simply click the \"Submit Project\" button (bottom towards the right)\n",
    "  \n",
    "  - Otherwise, add the following files into a zip archive and submit them \n",
    "  - `helper.py`\n",
    "  - `machine_translation.ipynb`\n",
    "  - `machine_translation.html`\n",
    "    - You can export the notebook by navigating to **File -> Download as -> HTML (.html)**."
   ]
  },
  {
   "cell_type": "code",
   "execution_count": null,
   "metadata": {
    "collapsed": true
   },
   "outputs": [],
   "source": [
    "!!python -m nbconvert *.ipynb"
   ]
  },
  {
   "cell_type": "markdown",
   "metadata": {},
   "source": [
    "## Optional Enhancements\n",
    "\n",
    "This project focuses on learning various network architectures for machine translation, but we don't evaluate the models according to best practices by splitting the data into separate test & training sets -- so the model accuracy is overstated. Use the [`sklearn.model_selection.train_test_split()`](http://scikit-learn.org/stable/modules/generated/sklearn.model_selection.train_test_split.html) function to create separate training & test datasets, then retrain each of the models using only the training set and evaluate the prediction accuracy using the hold out test set. Does the \"best\" model change?"
   ]
  }
 ],
 "metadata": {
  "kernelspec": {
   "display_name": "Python [conda env:aind-nlp-capstone]",
   "language": "python",
   "name": "conda-env-aind-nlp-capstone-py"
  },
  "language_info": {
   "codemirror_mode": {
    "name": "ipython",
    "version": 3
   },
   "file_extension": ".py",
   "mimetype": "text/x-python",
   "name": "python",
   "nbconvert_exporter": "python",
   "pygments_lexer": "ipython3",
   "version": "3.5.4"
  }
 },
 "nbformat": 4,
 "nbformat_minor": 1
}
